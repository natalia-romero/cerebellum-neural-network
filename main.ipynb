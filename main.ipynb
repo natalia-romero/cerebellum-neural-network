{
 "cells": [
  {
   "cell_type": "code",
   "execution_count": null,
   "metadata": {
    "vscode": {
     "languageId": "plaintext"
    }
   },
   "outputs": [],
   "source": [
    "from kan import KAN\n",
    "import matplotlib.pyplot as plt\n",
    "from sklearn.datasets import make_moons\n",
    "import torch\n",
    "import numpy as np"
   ]
  },
  {
   "cell_type": "code",
   "execution_count": null,
   "metadata": {
    "vscode": {
     "languageId": "plaintext"
    }
   },
   "outputs": [],
   "source": [
    "dataset = {}\n",
    "train_input, train_label = make_moons(n_samples=1000, shuffle=True, noise=0.1, random_state=None)\n",
    "test_input, test_label = make_moons(n_samples=1000, shuffle=True, noise=0.1, random_state=None)"
   ]
  },
  {
   "cell_type": "code",
   "execution_count": null,
   "metadata": {
    "vscode": {
     "languageId": "plaintext"
    }
   },
   "outputs": [],
   "source": [
    "dataset['train_input'] = torch.from_numpy(train_input)\n",
    "dataset['test_input'] = torch.from_numpy(test_input)\n",
    "dataset['train_label'] = torch.from_numpy(train_label[:,None])\n",
    "dataset['test_label'] = torch.from_numpy(test_label[:,None])\n",
    "\n",
    "X = dataset['train_input']\n",
    "y = dataset['train_label']\n",
    "plt.scatter(X[:,0], X[:,1], c=y[:,0])\n",
    "\n"
   ]
  },
  {
   "cell_type": "code",
   "execution_count": null,
   "metadata": {
    "vscode": {
     "languageId": "plaintext"
    }
   },
   "outputs": [],
   "source": [
    "X = dataset['train_input']\n",
    "y = dataset['train_label']\n",
    "plt.scatter(X[:,0], X[:,1], c=y[:,0])\n"
   ]
  },
  {
   "cell_type": "code",
   "execution_count": null,
   "metadata": {
    "vscode": {
     "languageId": "plaintext"
    }
   },
   "outputs": [],
   "source": [
    "\n",
    "\n",
    "model = KAN(width=[2,1], grid=3, k=3)\n",
    "\n",
    "def train_acc():\n",
    "    return torch.mean((torch.round(model(dataset['train_input'])[:,0]) == dataset['train_label'][:,0]).float())\n",
    "\n",
    "def test_acc():\n",
    "    return torch.mean((torch.round(model(dataset['test_input'])[:,0]) == dataset['test_label'][:,0]).float())\n",
    "\n",
    "results = model.train(dataset, opt=\"LBFGS\", steps=20, metrics=(train_acc, test_acc));\n",
    "results['train_acc'][-1], results['test_acc'][-1]\n"
   ]
  }
 ],
 "metadata": {
  "language_info": {
   "name": "python"
  }
 },
 "nbformat": 4,
 "nbformat_minor": 2
}
